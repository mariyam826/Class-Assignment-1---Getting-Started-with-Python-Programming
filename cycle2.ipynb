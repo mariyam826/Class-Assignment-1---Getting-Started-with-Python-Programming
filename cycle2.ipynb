{
  "nbformat": 4,
  "nbformat_minor": 0,
  "metadata": {
    "colab": {
      "name": "cycle2.ipynb",
      "provenance": [],
      "collapsed_sections": [],
      "authorship_tag": "ABX9TyNvXWppw7Rs3NEB6l9ASBdr",
      "include_colab_link": true
    },
    "kernelspec": {
      "name": "python3",
      "display_name": "Python 3"
    }
  },
  "cells": [
    {
      "cell_type": "markdown",
      "metadata": {
        "id": "view-in-github",
        "colab_type": "text"
      },
      "source": [
        "<a href=\"https://colab.research.google.com/github/mariyam826/Class-Assignment-1---Getting-Started-with-Python-Programming/blob/master/cycle2.ipynb\" target=\"_parent\"><img src=\"https://colab.research.google.com/assets/colab-badge.svg\" alt=\"Open In Colab\"/></a>"
      ]
    },
    {
      "cell_type": "code",
      "metadata": {
        "colab": {
          "base_uri": "https://localhost:8080/"
        },
        "id": "4KN623pWmi70",
        "outputId": "d43331f9-7acc-4a2f-e738-8ffd165bd38a"
      },
      "source": [
        "#find whether a number is odd or even#\r\n",
        "num = int(input(\"enter a number: \"))\r\n",
        "if (num%2==0):\r\n",
        "  print(num,\" is an even number\")\r\n",
        "else:\r\n",
        "  print(num,\" is an odd number\")   "
      ],
      "execution_count": null,
      "outputs": [
        {
          "output_type": "stream",
          "text": [
            "enter a number: 37\n",
            "37  is an odd number\n"
          ],
          "name": "stdout"
        }
      ]
    },
    {
      "cell_type": "code",
      "metadata": {
        "colab": {
          "base_uri": "https://localhost:8080/"
        },
        "id": "rz8-g75DoEk0",
        "outputId": "a1fcc94e-5a3a-497b-c4db-8801fc070e4c"
      },
      "source": [
        "#print absolute value of a numebr#\r\n",
        "n = float(input(\"enter a number: \"))\r\n",
        "print(\"absolute value of the number is:\", abs(n))"
      ],
      "execution_count": null,
      "outputs": [
        {
          "output_type": "stream",
          "text": [
            "enter a number: -61\n",
            "absolute value of the number is: 61.0\n"
          ],
          "name": "stdout"
        }
      ]
    },
    {
      "cell_type": "code",
      "metadata": {
        "colab": {
          "base_uri": "https://localhost:8080/"
        },
        "id": "8K4QouFwpIXn",
        "outputId": "49b52a42-e208-4647-ffea-4bafd471b8be"
      },
      "source": [
        "#smallest of 3 numbers#\r\n",
        "n1 = int(input(\"enter 3 numbers: \"))\r\n",
        "n2 = int(input())\r\n",
        "n3 = int(input())\r\n",
        "if n1<n2 and n1<n3:\r\n",
        "  print(n1,\" is the smallest\")\r\n",
        "elif n2<n1 and n2<n3:\r\n",
        "  print(n2,\" is the smallest\")\r\n",
        "else:\r\n",
        "  print(n3,\" is the smallest\")\r\n"
      ],
      "execution_count": null,
      "outputs": [
        {
          "output_type": "stream",
          "text": [
            "enter 3 numbers: 3\n",
            "5\n",
            "9\n",
            "3  is the smallest\n"
          ],
          "name": "stdout"
        }
      ]
    },
    {
      "cell_type": "code",
      "metadata": {
        "colab": {
          "base_uri": "https://localhost:8080/"
        },
        "id": "gS697efkr0oF",
        "outputId": "297d4424-19b8-4e1e-b790-808daf632bc1"
      },
      "source": [
        "#sum of first n numbers#\r\n",
        "n = int(input(\"enter a positive integer: \"))\r\n",
        "sum = int(n*(n+1)/2)\r\n",
        "print(\"sum of \",n,\" is \",sum)"
      ],
      "execution_count": null,
      "outputs": [
        {
          "output_type": "stream",
          "text": [
            "enter a positive integer: 4\n",
            "sum of  4  is  10\n"
          ],
          "name": "stdout"
        }
      ]
    },
    {
      "cell_type": "code",
      "metadata": {
        "colab": {
          "base_uri": "https://localhost:8080/"
        },
        "id": "hNYyprKRxOxm",
        "outputId": "ade1a271-f12e-4512-d368-ca29229b4f4e"
      },
      "source": [
        "#sum of all even numbers btwn 1 and n#\r\n",
        "n = int(input(\"enter limit: \"))\r\n",
        "i=1\r\n",
        "sum=0\r\n",
        "while i<n:\r\n",
        "  if i%2==0:\r\n",
        "    sum=sum+i\r\n",
        "  i=i+1\r\n",
        "print(\"sum of even numbers till\",n,\" is \",sum)"
      ],
      "execution_count": null,
      "outputs": [
        {
          "output_type": "stream",
          "text": [
            "enter limit: 10\n",
            "sum of even numbers till 10  is  20\n"
          ],
          "name": "stdout"
        }
      ]
    },
    {
      "cell_type": "code",
      "metadata": {
        "colab": {
          "base_uri": "https://localhost:8080/"
        },
        "id": "TtZN1tFk0Ykj",
        "outputId": "77dfb120-0a4e-42c0-d57d-76cf4f7b8745"
      },
      "source": [
        "#whether the number is prime#\r\n",
        "n = int(input(\"enter a number: \"))\r\n",
        "if n>1:\r\n",
        "  for i in range(2,n):\r\n",
        "    if (n%i==0):\r\n",
        "      print(n,\" is not a prime number\")\r\n",
        "      break\r\n",
        "  else:\r\n",
        "    print(n,\" is a prime number\")\r\n",
        "else:\r\n",
        "  print(n,\" is not a prime number\")"
      ],
      "execution_count": null,
      "outputs": [
        {
          "output_type": "stream",
          "text": [
            "enter a number: 13\n",
            "13  is a prime number\n"
          ],
          "name": "stdout"
        }
      ]
    },
    {
      "cell_type": "code",
      "metadata": {
        "colab": {
          "base_uri": "https://localhost:8080/"
        },
        "id": "ghE-PPlG35IK",
        "outputId": "45d39265-959b-42ed-d78a-d0b577a8486f"
      },
      "source": [
        "#sum of digits of a number#\r\n",
        "n = input(\"enter numbers: \")\r\n",
        "sum_of_digits = 0\r\n",
        "for digit in str(n):\r\n",
        "  sum_of_digits += int (digit)\r\n",
        "print(sum_of_digits)"
      ],
      "execution_count": null,
      "outputs": [
        {
          "output_type": "stream",
          "text": [
            "enter numbers: 12345\n",
            "15\n"
          ],
          "name": "stdout"
        }
      ]
    },
    {
      "cell_type": "code",
      "metadata": {
        "colab": {
          "base_uri": "https://localhost:8080/"
        },
        "id": "HWimKYb46CzX",
        "outputId": "ae157e9f-c06b-4036-98c6-fa9631f313e7"
      },
      "source": [
        "#print fibonacci series upto limit#\r\n",
        "n = int(input(\"how many terms?  \"))\r\n",
        "a=0\r\n",
        "b=1\r\n",
        "sum=0\r\n",
        "count=1\r\n",
        "print(\"fibonacci series: \", end= \" \")\r\n",
        "while (count<=n):\r\n",
        "  print(sum,end= \" \")\r\n",
        "  count+=1\r\n",
        "  a=b\r\n",
        "  b=sum\r\n",
        "  sum=a+b\r\n"
      ],
      "execution_count": null,
      "outputs": [
        {
          "output_type": "stream",
          "text": [
            "how many terms?  5\n",
            "fibonacci series:  0 1 1 2 3 "
          ],
          "name": "stdout"
        }
      ]
    }
  ]
}