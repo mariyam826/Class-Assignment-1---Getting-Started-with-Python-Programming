{
  "nbformat": 4,
  "nbformat_minor": 0,
  "metadata": {
    "colab": {
      "name": "IT_13_Cycle3.ipynb",
      "provenance": [],
      "authorship_tag": "ABX9TyMbXBdgpMgG45OZZ3s3KPlO",
      "include_colab_link": true
    },
    "kernelspec": {
      "name": "python3",
      "display_name": "Python 3"
    }
  },
  "cells": [
    {
      "cell_type": "markdown",
      "metadata": {
        "id": "view-in-github",
        "colab_type": "text"
      },
      "source": [
        "<a href=\"https://colab.research.google.com/github/mariyam826/Class-Assignment-1---Getting-Started-with-Python-Programming/blob/master/IT_13_Cycle3.ipynb\" target=\"_parent\"><img src=\"https://colab.research.google.com/assets/colab-badge.svg\" alt=\"Open In Colab\"/></a>"
      ]
    },
    {
      "cell_type": "code",
      "metadata": {
        "colab": {
          "base_uri": "https://localhost:8080/"
        },
        "id": "uibybP63eu5-",
        "outputId": "fc755fd8-a8f5-4895-857c-37a142e1b7be"
      },
      "source": [
        "#sum of cosine series n terms\r\n",
        "import math\r\n",
        "def cosine(x,n):\r\n",
        "  cosx=1\r\n",
        "  sign=-1\r\n",
        "  for i in range(2,n,2):\r\n",
        "    pi = 22/7\r\n",
        "    y = x*(pi/180)\r\n",
        "    cosx = cosx + (sign*(y**i))/math.factorial(i)\r\n",
        "    sign = -sign\r\n",
        "  return cosx\r\n",
        "x=int(input(\"enter the value of x in degrees: \"))\r\n",
        "n=int(input(\"enter the number of terms: \"))\r\n",
        "print(round(cosine(x,n),2))"
      ],
      "execution_count": 2,
      "outputs": [
        {
          "output_type": "stream",
          "text": [
            "enter the value of x in degrees: 45\n",
            "enter the number of terms: 5\n",
            "0.71\n"
          ],
          "name": "stdout"
        }
      ]
    },
    {
      "cell_type": "code",
      "metadata": {
        "colab": {
          "base_uri": "https://localhost:8080/"
        },
        "id": "38Gs_9CRgx0j",
        "outputId": "5283d016-aea7-4a58-8e42-f72b3a317576"
      },
      "source": [
        "#factorial of a number using recursion\n",
        "def recur_factorial(n):\n",
        "   if n == 1:\n",
        "       return n\n",
        "   else:\n",
        "       return n*recur_factorial(n-1)\n",
        "num = int(input(\"enter a number: \"))\n",
        "if num < 0:\n",
        "   print(\"factorial does not exist for negative numbers\")\n",
        "elif num == 0:\n",
        "   print(\"The factorial of 0 is 1\")\n",
        "else:\n",
        "   print(\"The factorial of\", num, \"is\", recur_factorial(num))\n"
      ],
      "execution_count": 6,
      "outputs": [
        {
          "output_type": "stream",
          "text": [
            "enter a number: 7\n",
            "The factorial of 7 is 5040\n"
          ],
          "name": "stdout"
        }
      ]
    },
    {
      "cell_type": "code",
      "metadata": {
        "colab": {
          "base_uri": "https://localhost:8080/"
        },
        "id": "g8L8NnuIjBAE",
        "outputId": "9a7a64ff-73eb-4461-f93a-e3d0c3c2b754"
      },
      "source": [
        "#fibonacci series upto a limit using recursion\r\n",
        "def recur_fibo(n):\r\n",
        "   if n <= 1:\r\n",
        "       return n\r\n",
        "   else:\r\n",
        "       return(recur_fibo(n-1) + recur_fibo(n-2))\r\n",
        "nterms = (int(input(\"number of terms: \")))\r\n",
        "if nterms <= 0:\r\n",
        "   print(\"Plese enter a positive integer\")\r\n",
        "else:\r\n",
        "   print(\"Fibonacci sequence:\")\r\n",
        "   for i in range(nterms):\r\n",
        "       print(recur_fibo(i))"
      ],
      "execution_count": 11,
      "outputs": [
        {
          "output_type": "stream",
          "text": [
            "number of terms: 7\n",
            "Fibonacci sequence:\n",
            "0\n",
            "1\n",
            "1\n",
            "2\n",
            "3\n",
            "5\n",
            "8\n"
          ],
          "name": "stdout"
        }
      ]
    },
    {
      "cell_type": "code",
      "metadata": {
        "colab": {
          "base_uri": "https://localhost:8080/"
        },
        "id": "DO651DTFki6f",
        "outputId": "28b38b12-8e28-4612-813c-87947ed14d4b"
      },
      "source": [
        "#define a function for checking perfect number and print that number\r\n",
        "def is_perfect(n):\r\n",
        "\r\n",
        "    perfect_sum = 0\r\n",
        "    \r\n",
        "    for i in range(1,n):\r\n",
        "        if n%i==0:\r\n",
        "            perfect_sum += i\r\n",
        "\r\n",
        "    return perfect_sum == n\r\n",
        "number = int(input('Enter number: '))\r\n",
        "if is_perfect(number):\r\n",
        "    print('%d is a perfect number' %(number))\r\n",
        "else:\r\n",
        "    print('%d is NOT a perfect number' %(number))\r\n",
        "\r\n"
      ],
      "execution_count": 13,
      "outputs": [
        {
          "output_type": "stream",
          "text": [
            "Enter number: 6\n",
            "6 is a perfect number\n"
          ],
          "name": "stdout"
        }
      ]
    },
    {
      "cell_type": "code",
      "metadata": {
        "colab": {
          "base_uri": "https://localhost:8080/"
        },
        "id": "RqM3fJb2mI5Y",
        "outputId": "7d9e7ee0-bae3-453c-aa64-7d38d6c93e74"
      },
      "source": [
        "#euclid's algorithm using recursion\r\n",
        "def gcd(a,b): \r\n",
        "    if (a%b==0): \r\n",
        "        return b \r\n",
        "    return gcd(b,a%b) \r\n",
        "n1=int(input(\"enter the first number: \"))\r\n",
        "n2=int(input(\"enter the second number: \")) \r\n",
        "print (\"gcd: \",gcd(n1,n2))"
      ],
      "execution_count": 14,
      "outputs": [
        {
          "output_type": "stream",
          "text": [
            "enter the first number: 6\n",
            "enter the second number: 4\n",
            "gcd:  2\n"
          ],
          "name": "stdout"
        }
      ]
    }
  ]
}